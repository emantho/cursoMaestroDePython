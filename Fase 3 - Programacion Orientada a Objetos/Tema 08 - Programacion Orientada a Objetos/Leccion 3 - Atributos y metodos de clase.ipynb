{
 "cells": [
  {
   "cell_type": "code",
   "execution_count": 3,
   "metadata": {},
   "outputs": [],
   "source": [
    "class Galleta:\n",
    "    pass\n",
    "\n",
    "una_galleta = Galleta()"
   ]
  },
  {
   "cell_type": "code",
   "execution_count": 4,
   "metadata": {},
   "outputs": [],
   "source": [
    "una_galleta.sabor = \"salado\""
   ]
  },
  {
   "cell_type": "code",
   "execution_count": 5,
   "metadata": {},
   "outputs": [],
   "source": [
    "una_galleta.color = \"Marrón\""
   ]
  },
  {
   "cell_type": "code",
   "execution_count": 6,
   "metadata": {},
   "outputs": [
    {
     "name": "stdout",
     "output_type": "stream",
     "text": [
      "El sabor de esta galleta es salado\n"
     ]
    }
   ],
   "source": [
    "print(f\"El sabor de esta galleta es {una_galleta.sabor}\")"
   ]
  },
  {
   "cell_type": "code",
   "execution_count": 7,
   "metadata": {},
   "outputs": [
    {
     "data": {
      "text/plain": [
       "False"
      ]
     },
     "execution_count": 7,
     "metadata": {},
     "output_type": "execute_result"
    }
   ],
   "source": [
    "class Galleta:\n",
    "    chocolate = False\n",
    "\n",
    "g = Galleta()\n",
    "g.chocolate"
   ]
  },
  {
   "cell_type": "code",
   "execution_count": 8,
   "metadata": {},
   "outputs": [
    {
     "data": {
      "text/plain": [
       "True"
      ]
     },
     "execution_count": 8,
     "metadata": {},
     "output_type": "execute_result"
    }
   ],
   "source": [
    "g.chocolate = True\n",
    "g.chocolate"
   ]
  },
  {
   "cell_type": "code",
   "execution_count": 9,
   "metadata": {},
   "outputs": [
    {
     "name": "stdout",
     "output_type": "stream",
     "text": [
      "se acaba de crear una galleta\n"
     ]
    }
   ],
   "source": [
    "# un METODO (METHOD) es la palabra que indica una función dentro de una clase, se escriben con barras __ delante y detras\n",
    "class Galleta:\n",
    "    chocolate = False\n",
    "    def __init__(self) -> None: # Metodo especial que se ejecuta al crear un objeto permite enviar argumentos durante la instanciación \n",
    "        print(\"se acaba de crear una galleta\") # Self hace referencia el propio objeto y diferencia entre clase y metodos\n",
    "\n",
    "g = Galleta()\n"
   ]
  },
  {
   "cell_type": "markdown",
   "metadata": {},
   "source": [
    "##### Atributos sin self"
   ]
  },
  {
   "cell_type": "code",
   "execution_count": 11,
   "metadata": {},
   "outputs": [
    {
     "name": "stdout",
     "output_type": "stream",
     "text": [
      "se acaba de crear una galleta\n"
     ]
    },
    {
     "data": {
      "text/plain": [
       "False"
      ]
     },
     "execution_count": 11,
     "metadata": {},
     "output_type": "execute_result"
    }
   ],
   "source": [
    "# Ejemplo de como self es importante para el llamado de atributos \n",
    "class Galleta:\n",
    "    chocolate = False\n",
    "    def __init__(self) -> None: \n",
    "        print(\"se acaba de crear una galleta\") \n",
    "\n",
    "    def cholocatear(self):\n",
    "        chocolate = True # Se asigna un atributo para chocolatear pero es distinto al de la clase\n",
    "    \n",
    "\n",
    "g = Galleta()\n",
    "g.cholocatear()\n",
    "g.chocolate # por este motivo el resultado es False y no True como se especifica en el metodo chocolatear()"
   ]
  },
  {
   "cell_type": "markdown",
   "metadata": {},
   "source": [
    "#### Atributos con Self"
   ]
  },
  {
   "cell_type": "code",
   "execution_count": 12,
   "metadata": {},
   "outputs": [
    {
     "name": "stdout",
     "output_type": "stream",
     "text": [
      "se acaba de crear una galleta\n"
     ]
    },
    {
     "data": {
      "text/plain": [
       "True"
      ]
     },
     "execution_count": 12,
     "metadata": {},
     "output_type": "execute_result"
    }
   ],
   "source": [
    "# Ejemplo de como self es importante para el llamado de atributos \n",
    "class Galleta:\n",
    "    chocolate = False\n",
    "    def __init__(self) -> None: \n",
    "        print(\"se acaba de crear una galleta\") \n",
    "\n",
    "    def cholocatear(self):\n",
    "        self.chocolate = True # al asignar self.chocolate se está llamando al atributo de clase\n",
    "    \n",
    "\n",
    "g = Galleta()\n",
    "g.cholocatear()\n",
    "g.chocolate # ahora el resultado es True como se espera que sea"
   ]
  },
  {
   "cell_type": "code",
   "execution_count": 13,
   "metadata": {},
   "outputs": [
    {
     "name": "stdout",
     "output_type": "stream",
     "text": [
      "se acaba de crear una galleta\n",
      "Soy una galleta sin chocolate :-(\n",
      "soy una galleta chocolatada :-D\n"
     ]
    }
   ],
   "source": [
    "class Galleta:\n",
    "    chocolate = False\n",
    "    def __init__(self) -> None: \n",
    "        print(\"se acaba de crear una galleta\") \n",
    "\n",
    "    def cholocatear(self):\n",
    "        self.chocolate = True # al asignar self.chocolate se está llamando al atributo de clase\n",
    "    \n",
    "    def tiene_chocolate(self):\n",
    "        if (self.chocolate):\n",
    "            print(\"soy una galleta chocolatada :-D\")\n",
    "        else:\n",
    "            print(\"Soy una galleta sin chocolate :-(\")\n",
    "\n",
    "g = Galleta()\n",
    "g.tiene_chocolate()\n",
    "g.cholocatear()\n",
    "g.tiene_chocolate()"
   ]
  },
  {
   "cell_type": "code",
   "execution_count": null,
   "metadata": {},
   "outputs": [],
   "source": []
  }
 ],
 "metadata": {
  "kernelspec": {
   "display_name": "Python 3.10.6 64-bit",
   "language": "python",
   "name": "python3"
  },
  "language_info": {
   "codemirror_mode": {
    "name": "ipython",
    "version": 3
   },
   "file_extension": ".py",
   "mimetype": "text/x-python",
   "name": "python",
   "nbconvert_exporter": "python",
   "pygments_lexer": "ipython3",
   "version": "3.10.6"
  },
  "vscode": {
   "interpreter": {
    "hash": "916dbcbb3f70747c44a77c7bcd40155683ae19c65e1c03b4aa3499c5328201f1"
   }
  }
 },
 "nbformat": 4,
 "nbformat_minor": 0
}
