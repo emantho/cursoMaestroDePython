{
 "cells": [
  {
   "cell_type": "code",
   "execution_count": 1,
   "metadata": {},
   "outputs": [
    {
     "name": "stdout",
     "output_type": "stream",
     "text": [
      "(5, 'Hola', [1, 2, 3, 4, 5])\n"
     ]
    }
   ],
   "source": [
    "def indeterminados_posicion(*args):\n",
    "    print(args)\n",
    "\n",
    "indeterminados_posicion(5,\"Hola\",[1,2,3,4,5])\n"
   ]
  },
  {
   "cell_type": "code",
   "execution_count": 2,
   "metadata": {},
   "outputs": [
    {
     "name": "stdout",
     "output_type": "stream",
     "text": [
      "5\n",
      "Hola\n",
      "[1, 2, 3, 4, 5]\n"
     ]
    }
   ],
   "source": [
    "def indeterminados_posicion(*args):\n",
    "    for arg in args:\n",
    "        print(arg)\n",
    "\n",
    "indeterminados_posicion(5,\"Hola\",[1,2,3,4,5])\n"
   ]
  },
  {
   "cell_type": "code",
   "execution_count": 3,
   "metadata": {},
   "outputs": [
    {
     "name": "stdout",
     "output_type": "stream",
     "text": [
      "{'n': 5, 'c': 'Hola', 'l': [1, 2, 3, 4, 5]}\n"
     ]
    }
   ],
   "source": [
    "def indeterminados_nombres(**kwargs):\n",
    "    print(kwargs)\n",
    "\n",
    "indeterminados_nombres(n=5,c=\"Hola\",l=[1,2,3,4,5])\n"
   ]
  },
  {
   "cell_type": "code",
   "execution_count": 5,
   "metadata": {},
   "outputs": [
    {
     "name": "stdout",
     "output_type": "stream",
     "text": [
      "n\n",
      "c\n",
      "l\n"
     ]
    }
   ],
   "source": [
    "def indeterminados_nombres(**kwargs):\n",
    "    for kwarg in kwargs:\n",
    "        print(kwarg)\n",
    "\n",
    "indeterminados_nombres(n=5,c=\"Hola\",l=[1,2,3,4,5])\n"
   ]
  },
  {
   "cell_type": "code",
   "execution_count": 9,
   "metadata": {},
   "outputs": [
    {
     "name": "stdout",
     "output_type": "stream",
     "text": [
      "Sumatorio indetermnado es: 390.56\n",
      "nombre Eder\n",
      "edad 36\n"
     ]
    }
   ],
   "source": [
    "def super_funcion(*args, **kwargs):\n",
    "    t=0\n",
    "    for arg in args:\n",
    "        t+=arg\n",
    "    print(f\"Sumatorio indetermnado es: {t}\")\n",
    "    for kwarg in kwargs:\n",
    "        print(f\"{kwarg} {kwargs[kwarg]}\")\n",
    "\n",
    "super_funcion(10,50,-1,1.56,10,20,300,nombre=\"Eder\", edad=36)"
   ]
  },
  {
   "cell_type": "code",
   "execution_count": null,
   "metadata": {},
   "outputs": [],
   "source": []
  }
 ],
 "metadata": {
  "kernelspec": {
   "display_name": "Python 3.10.6 64-bit",
   "language": "python",
   "name": "python3"
  },
  "language_info": {
   "codemirror_mode": {
    "name": "ipython",
    "version": 3
   },
   "file_extension": ".py",
   "mimetype": "text/x-python",
   "name": "python",
   "nbconvert_exporter": "python",
   "pygments_lexer": "ipython3",
   "version": "3.10.6"
  },
  "vscode": {
   "interpreter": {
    "hash": "916dbcbb3f70747c44a77c7bcd40155683ae19c65e1c03b4aa3499c5328201f1"
   }
  }
 },
 "nbformat": 4,
 "nbformat_minor": 1
}
