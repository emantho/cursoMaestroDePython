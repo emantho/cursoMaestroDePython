{
 "cells": [
  {
   "cell_type": "code",
   "execution_count": null,
   "metadata": {},
   "outputs": [],
   "source": [
    "a = 10\n",
    "b = 5\n",
    "a * b - 2 ** b >= and not (a % b) != 0\n",
    "# Precedencias *** Siempre se lee de izquierda a derecha, esto siempre se cumple\n",
    "    # 1ro ->> Parentesis                 >> (a % b)\n",
    "    # 2do ->> Exponentes                 >> 2 ** b\n",
    "    # 3ro ->> Multiplicación / División  >> a * b\n",
    "    # 4to ->> Suma / resta               >> \n",
    "    # 5to ->> relacionales               >> >=, !=\n",
    "    # 6to ->> Lógicos False / True       >> not luego and\n",
    "    \n",
    "    "
   ]
  }
 ],
 "metadata": {
  "kernelspec": {
   "display_name": "Python 3 (ipykernel)",
   "language": "python",
   "name": "python3"
  },
  "language_info": {
   "codemirror_mode": {
    "name": "ipython",
    "version": 3
   },
   "file_extension": ".py",
   "mimetype": "text/x-python",
   "name": "python",
   "nbconvert_exporter": "python",
   "pygments_lexer": "ipython3",
   "version": "3.10.4"
  }
 },
 "nbformat": 4,
 "nbformat_minor": 1
}
