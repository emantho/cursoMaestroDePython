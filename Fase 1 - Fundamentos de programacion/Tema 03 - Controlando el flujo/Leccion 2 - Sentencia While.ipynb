{
 "cells": [
  {
   "cell_type": "code",
   "execution_count": 3,
   "metadata": {},
   "outputs": [
    {
     "name": "stdout",
     "output_type": "stream",
     "text": [
      "c vale 1\n",
      "c vale 2\n",
      "c vale 3\n",
      "c vale 4\n",
      "c vale 5\n",
      "c vale 6\n"
     ]
    }
   ],
   "source": [
    "c = 0\n",
    "while c <=5:\n",
    "    c+=1\n",
    "    print(f\"c vale {c}\")"
   ]
  },
  {
   "cell_type": "code",
   "execution_count": 5,
   "metadata": {},
   "outputs": [
    {
     "name": "stdout",
     "output_type": "stream",
     "text": [
      "c vale 1\n",
      "c vale 2\n",
      "c vale 3\n",
      "c vale 4\n",
      "c vale 5\n",
      "c vale 6\n",
      "Se ha completado toda la iteraci[on y c vale 6\n"
     ]
    }
   ],
   "source": [
    "c = 0\n",
    "while c <=5:\n",
    "    c+=1\n",
    "    print(f\"c vale {c}\")\n",
    "else:\n",
    "    print(f\"Se ha completado toda la iteraci[on y c vale {c}\")"
   ]
  },
  {
   "cell_type": "code",
   "execution_count": 6,
   "metadata": {},
   "outputs": [
    {
     "name": "stdout",
     "output_type": "stream",
     "text": [
      "c vale 1\n",
      "c vale 2\n",
      "c vale 3\n",
      "Rompemos el bucle cuando c vale 4\n"
     ]
    }
   ],
   "source": [
    "c = 0\n",
    "while c <=5:\n",
    "    c+=1\n",
    "    if c == 4:\n",
    "        print(f\"Rompemos el bucle cuando c vale {c}\")\n",
    "        break\n",
    "    print(f\"c vale {c}\")\n",
    "else:\n",
    "    print(f\"Se ha completado toda la iteraci[on y c vale {c}\")"
   ]
  },
  {
   "cell_type": "code",
   "execution_count": 7,
   "metadata": {},
   "outputs": [
    {
     "name": "stdout",
     "output_type": "stream",
     "text": [
      "c vale 1\n",
      "c vale 2\n",
      "c vale 3\n",
      "Continuaoms con la siguiente iteraci[on cuando c vale 4\n",
      "c vale 5\n",
      "c vale 6\n",
      "Se ha completado toda la iteraci[on y c vale 6\n"
     ]
    }
   ],
   "source": [
    "c = 0\n",
    "while c <=5:\n",
    "    c+=1\n",
    "    if c == 4:\n",
    "        print(f\"Continuaoms con la siguiente iteracion cuando c vale {c}\")\n",
    "        continue\n",
    "    print(f\"c vale {c}\")\n",
    "else:\n",
    "    print(f\"Se ha completado toda la iteraci[on y c vale {c}\")"
   ]
  },
  {
   "cell_type": "code",
   "execution_count": 9,
   "metadata": {},
   "outputs": [
    {
     "name": "stdout",
     "output_type": "stream",
     "text": [
      "bienvenido al menu interactivo\n",
      "Que quieres hacer? escribe una opcion\n",
      "    1) Saludar\n",
      "    2) Sumar dos numeros\n",
      "    3) salir\n",
      "3\n",
      "Hasta luego, ha sido un place ayudarte!\n"
     ]
    }
   ],
   "source": [
    "print(\"bienvenido al menu interactivo\")\n",
    "while(True):\n",
    "    print(\"\"\"Que quieres hacer? escribe una opcion\n",
    "    1) Saludar\n",
    "    2) Sumar dos numeros\n",
    "    3) salir\"\"\")\n",
    "    opcion = int(input())\n",
    "    if opcion == 1:\n",
    "        print(\"hola, espero la estes pasando bien\")\n",
    "    elif opcion == 2:\n",
    "        n1 = int(input(\"Introduce un primer numero: \"))\n",
    "        n2 = int(input(\"Introduce un segundo numero: \"))\n",
    "        print(f\"el resultado de la suma es {n1+n2}\")\n",
    "    elif opcion == 3:\n",
    "        print(\"Hasta luego, ha sido un place ayudarte!\")\n",
    "        break\n",
    "    else:\n",
    "        print(\"Opcion desconocida, vuelve a intentar.\")\n"
   ]
  },
  {
   "cell_type": "code",
   "execution_count": 15,
   "metadata": {},
   "outputs": [
    {
     "name": "stdout",
     "output_type": "stream",
     "text": [
      "Ingresa un numero: 3\n",
      "Ingresa un numero: 4\n",
      "Ingresa un numero: 1\n",
      "Ingresa un numero: 2\n",
      "Ingresa un numero: 15\n",
      "El numero 15 es multiplo de 5\n"
     ]
    }
   ],
   "source": [
    "# Completa el ejercicio\n",
    "\n",
    "while True:\n",
    "    numero = int(input(\"Ingresa un numero: \"))\n",
    "    if numero % 5 == 0:\n",
    "        print(f\"El numero {numero} es multiplo de 5\")\n",
    "        break\n"
   ]
  },
  {
   "cell_type": "code",
   "execution_count": null,
   "metadata": {},
   "outputs": [],
   "source": []
  }
 ],
 "metadata": {
  "kernelspec": {
   "display_name": "Python 3 (ipykernel)",
   "language": "python",
   "name": "python3"
  },
  "language_info": {
   "codemirror_mode": {
    "name": "ipython",
    "version": 3
   },
   "file_extension": ".py",
   "mimetype": "text/x-python",
   "name": "python",
   "nbconvert_exporter": "python",
   "pygments_lexer": "ipython3",
   "version": "3.10.4"
  }
 },
 "nbformat": 4,
 "nbformat_minor": 1
}
