{
 "cells": [
  {
   "cell_type": "markdown",
   "metadata": {},
   "source": [
    "# Tema 03: Control de flujo (Enunciados)\n",
    "*Nota: Estos ejercicios son optativos para hacer al final de la unidad y están pensados para apoyar tu aprendizaje*."
   ]
  },
  {
   "cell_type": "markdown",
   "metadata": {},
   "source": [
    "**1) Realiza un programa que lea dos números por teclado y permita elegir entre 3 opciones en un menú:** \n",
    "* Mostrar una suma de los dos números\n",
    "* Mostrar una resta de los dos números (el primero menos el segundo)\n",
    "* Mostrar una multiplicación de los dos números\n",
    "* En caso de no introducir una opción válida, el programa informará de que no es correcta."
   ]
  },
  {
   "cell_type": "code",
   "execution_count": 4,
   "metadata": {},
   "outputs": [
    {
     "name": "stdout",
     "output_type": "stream",
     "text": [
      "Ingrese un primer número: 3\n",
      "Ingrese un segundo número: 4\n",
      "\n",
      "Acciones disponibles: \n",
      "        1) Ver el resultado de sumar los dos números\n",
      "        2) Ver el resultado de restar el segundo número al primero\n",
      "        3) Ver el resultado de multiplicar los dos números\n",
      "        4) Salir\n",
      "        \n",
      "        Elija la opción deseada: 3\n",
      "El resultado de 3 * 4 es 12\n",
      "Ingrese un primer número: 4\n",
      "Ingrese un segundo número: 3\n",
      "\n",
      "Acciones disponibles: \n",
      "        1) Ver el resultado de sumar los dos números\n",
      "        2) Ver el resultado de restar el segundo número al primero\n",
      "        3) Ver el resultado de multiplicar los dos números\n",
      "        4) Salir\n",
      "        \n",
      "        Elija la opción deseada: 7\n",
      "ERROR: La opción 7 no es valida, intente de nuevo!!\n",
      "Ingrese un primer número: 4\n",
      "Ingrese un segundo número: 3\n",
      "\n",
      "Acciones disponibles: \n",
      "        1) Ver el resultado de sumar los dos números\n",
      "        2) Ver el resultado de restar el segundo número al primero\n",
      "        3) Ver el resultado de multiplicar los dos números\n",
      "        4) Salir\n",
      "        \n",
      "        Elija la opción deseada: 4\n",
      "Gracias por usar nuestro servicio, adios!!\n"
     ]
    }
   ],
   "source": [
    "# Completa el ejercicio aquí\n",
    "while True:\n",
    "    n1 = int(input(\"Ingrese un primer número: \"))\n",
    "    n2 = int(input(\"Ingrese un segundo número: \"))\n",
    "    \n",
    "    accion = int(input(\"\"\"\\nAcciones disponibles: \n",
    "        1) Ver el resultado de sumar los dos números\n",
    "        2) Ver el resultado de restar el segundo número al primero\n",
    "        3) Ver el resultado de multiplicar los dos números\n",
    "        4) Salir\n",
    "        \n",
    "        Elija la opción deseada: \"\"\"))\n",
    "    \n",
    "    if accion == 1:\n",
    "        print(f\"El resultado de {n1} + {n2} es {n1 + n2}\")\n",
    "    elif accion == 2:\n",
    "        print(f\"El resultado de {n1} - {n2} es {n1 - n2}\")\n",
    "    elif accion == 3:\n",
    "        print(f\"El resultado de {n1} * {n2} es {n1 * n2}\")\n",
    "    elif accion == 4:\n",
    "        print(\"Gracias por usar nuestro servicio, adios!!\")\n",
    "        break\n",
    "    else:\n",
    "        print(f\"ERROR: La opción {accion} no es valida, intente de nuevo!!\")\n",
    "\n"
   ]
  },
  {
   "cell_type": "markdown",
   "metadata": {},
   "source": [
    "**2) Realiza un programa que lea un número impar por teclado. Si el usuario no introduce un número impar, debe repetise el proceso hasta que lo introduzca correctamente.**"
   ]
  },
  {
   "cell_type": "code",
   "execution_count": 21,
   "metadata": {},
   "outputs": [
    {
     "name": "stdout",
     "output_type": "stream",
     "text": [
      "Ingrese un numero: 1\n"
     ]
    }
   ],
   "source": [
    "# Completa el ejercicio aquí\n",
    "num = 0\n",
    "while num % 2 == 0:\n",
    "    num = int(input(\"Ingrese un numero: \"))\n"
   ]
  },
  {
   "cell_type": "markdown",
   "metadata": {},
   "source": [
    "**3) Realiza un programa que sume todos los números enteros pares desde el 0 hasta el 100:**\n",
    "\n",
    "*Sugerencia: Puedes utilizar la funciones sum() y range() para hacerlo más fácil. El tercer parámetro en la función range(inicio, fin, salto) indica un salto de números, pruébalo.*"
   ]
  },
  {
   "cell_type": "code",
   "execution_count": 22,
   "metadata": {},
   "outputs": [
    {
     "name": "stdout",
     "output_type": "stream",
     "text": [
      "2550\n"
     ]
    }
   ],
   "source": [
    "# Completa el ejercicio aquí\n",
    "print(sum(range(0,101,2)))\n",
    "\n",
    "#for i in range(0,100,2):\n",
    "#    print(i, end = \" \")"
   ]
  },
  {
   "cell_type": "markdown",
   "metadata": {},
   "source": [
    "**4) Realiza un programa que pida al usuario cuantos números quiere introducir. Luego lee todos los números y realiza una media aritmética:**\n"
   ]
  },
  {
   "cell_type": "code",
   "execution_count": 34,
   "metadata": {},
   "outputs": [
    {
     "name": "stdout",
     "output_type": "stream",
     "text": [
      "Ingrese número: 5\n",
      "Ingresar otro número ¿Si o No?\n",
      "Ingrese número: 2\n",
      "Ingresar otro número ¿Si o No?s\n",
      "Ingrese número: 7\n",
      "Ingresar otro número ¿Si o No?\n",
      "Ingrese número: 8\n",
      "Ingresar otro número ¿Si o No?n\n",
      "5.5\n"
     ]
    }
   ],
   "source": [
    "# Completa el ejercicio aquí\n",
    "numeros = []\n",
    "while True:\n",
    "    numero = int(input(\"Ingrese número: \"))\n",
    "    numeros.append(numero)\n",
    "    option = input(\"Ingresar otro número ¿Si o No?\").lower()\n",
    "    if option == \"no\" or option == \"n\":\n",
    "        print(sum(numeros)/len(numeros))\n",
    "        break\n",
    "    "
   ]
  },
  {
   "cell_type": "markdown",
   "metadata": {},
   "source": [
    "## **5) Realiza un programa que pida al usuario un número entero del 0 al 9, y que mientras el número no sea correcto se repita el proceso. Luego debe comprobar si el número se encuentra en la lista de números y notificarlo:**\n",
    "\n",
    "*Consejo: La sintaxis \"valor in lista\" permite comprobar fácilmente si un valor se encuentra en una lista (devuelve True o False)*"
   ]
  },
  {
   "cell_type": "code",
   "execution_count": 40,
   "metadata": {},
   "outputs": [
    {
     "name": "stdout",
     "output_type": "stream",
     "text": [
      "Ingrese un número entre 0 y 9: 1\n",
      "\n",
      "El número 1 está en la lista\n"
     ]
    }
   ],
   "source": [
    "# Completa el ejercicio aquí\n",
    "numeros = [1, 3, 6, 9]\n",
    "\n",
    "while True:\n",
    "    numero = int(input(\"Ingrese un número entre 0 y 9: \"))\n",
    "    if numero in numeros:\n",
    "        print(f\"\\nEl número {numero} está en la lista\")\n",
    "        break\n"
   ]
  },
  {
   "cell_type": "markdown",
   "metadata": {},
   "source": [
    "**6) Utilizando la función range() y la conversión a listas genera las siguientes listas dinámicamente:**\n",
    "* Todos los números del 0 al 10 [0, 1, 2, ..., 10]\n",
    "* Todos los números del -10 al 0 [-10, -9, -8, ..., 0]\n",
    "* Todos los números pares del 0 al 20 [0, 2, 4, ..., 20]\n",
    "* Todos los números impares entre -20 y 0 [-19, -17, -15, ..., -1]\n",
    "* Todos los números múltiples de 5 del 0 al 50 [0, 5, 10, ..., 50]\n",
    "\n",
    "*Pista: Utiliza el tercer parámetro de la función range(inicio, fin, salto).*"
   ]
  },
  {
   "cell_type": "code",
   "execution_count": 13,
   "metadata": {},
   "outputs": [
    {
     "name": "stdout",
     "output_type": "stream",
     "text": [
      "[0, 1, 2, 3, 4, 5, 6, 7, 8, 9]\n",
      "[-10, -9, -8, -7, -6, -5, -4, -3, -2, -1, 0]\n",
      "[0, 2, 4, 6, 8, 10, 12, 14, 16, 18, 20]\n",
      "[-19, -17, -15, -13, -11, -9, -7, -5, -3, -1]\n",
      "[0, 5, 10, 15, 20, 25, 30, 35, 40, 45, 50]\n"
     ]
    }
   ],
   "source": [
    "# Completa el ejercicio\n",
    "range_1 = range(0,10,1); list_1 = list(range_1); print(list_1)\n",
    "range_2 = range(-10,1,1); list_2 = list(range_2); print(list_2)\n",
    "range_3 = range(0,21,2); list_3 = list(range_3); print(list_3)\n",
    "range_4 = range(-19,1,2); list_4 = list(range_4); print(list_4)\n",
    "range_5 = range(0,51,5); list_5 = list(range_5); print(list_5)"
   ]
  },
  {
   "cell_type": "markdown",
   "metadata": {},
   "source": [
    "**7) Dadas dos listas, debes generar una tercera con todos los elementos que se repitan en ellas, pero no debe repetise ningún elemento en la nueva lista:**"
   ]
  },
  {
   "cell_type": "code",
   "execution_count": 27,
   "metadata": {},
   "outputs": [
    {
     "name": "stdout",
     "output_type": "stream",
     "text": [
      "[0, 2, 4, 6, 8]\n"
     ]
    }
   ],
   "source": [
    "# Completa el ejercicio aquí\n",
    "l1 = [0, 1, 2, 3, 4, 5, 6, 7, 8, 9]\n",
    "l2 = [0, 2, 4, 6, 8, 10, 12, 14, 16, 18]\n",
    "l3 = []\n",
    "for item in l1:\n",
    "    if item in l2 and item not in l3:\n",
    "        l3.append(item)\n",
    "l3.sort()\n",
    "print(l3)"
   ]
  },
  {
   "cell_type": "code",
   "execution_count": null,
   "metadata": {},
   "outputs": [],
   "source": []
  }
 ],
 "metadata": {
  "anaconda-cloud": {},
  "kernelspec": {
   "display_name": "Python 3 (ipykernel)",
   "language": "python",
   "name": "python3"
  },
  "language_info": {
   "codemirror_mode": {
    "name": "ipython",
    "version": 3
   },
   "file_extension": ".py",
   "mimetype": "text/x-python",
   "name": "python",
   "nbconvert_exporter": "python",
   "pygments_lexer": "ipython3",
   "version": "3.10.4"
  }
 },
 "nbformat": 4,
 "nbformat_minor": 1
}
